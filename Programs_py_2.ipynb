{
 "cells": [
  {
   "cell_type": "markdown",
   "id": "0adbcaa3",
   "metadata": {},
   "source": [
    "# ARITHMETIC CALCULATIONS"
   ]
  },
  {
   "cell_type": "code",
   "execution_count": null,
   "id": "d21ae226",
   "metadata": {},
   "outputs": [],
   "source": [
    "start = 'yes'\n",
    "while start.lower() == 'yes':\n",
    "    a = int(input(\"ENTER THE VALUE:- \"))\n",
    "    b = int(input(\"ENTER THE VALUE:- \"))\n",
    "    print(\"--------------------------------------------------------\")\n",
    "    print(\"|\"+ str(str(a)+\" + \"+str(b)+\" = \"+str(a + b)).center(54)+\"|\")\n",
    "    print(\"|\"+ str(str(a)+\" - \"+str(b)+\" = \"+str(a - b)).center(54)+\"|\")\n",
    "    print(\"|\"+ str(str(a)+\" * \"+str(b)+\" = \"+str(a * b)).center(54)+\"|\")\n",
    "    print(\"|\"+ str(str(a)+\" / \"+str(b)+\" = \"+str(a / b)).center(54)+\"|\")\n",
    "    print(\"|\"+ str(str(a)+\" % \"+str(b)+\" = \"+str(a % b)).center(54)+\"|\")\n",
    "    print(\"--------------------------------------------------------\")\n",
    "    start = input(\"Do you want to continue? yes for continue or type any other key to stop:- \")"
   ]
  },
  {
   "cell_type": "markdown",
   "id": "587d8345",
   "metadata": {},
   "source": [
    "# USING OPTIONAL ARGUMENT"
   ]
  },
  {
   "cell_type": "code",
   "execution_count": null,
   "id": "12156047",
   "metadata": {},
   "outputs": [],
   "source": [
    "def custom(name=\"\",address=\"\",course=\"\",fees=\"\",**op):\n",
    "    start = end = '-'\n",
    "    left = right = middle = '|'\n",
    "    corners = '+'\n",
    "    if(op.get('start')):    \n",
    "        start = op.get('start')\n",
    "    if(op.get('end')):\n",
    "        end = op.get('end')\n",
    "    if(op.get('right')):\n",
    "        right = op.get('right')\n",
    "    if(op.get('left')):\n",
    "        left = op.get('left')\n",
    "    if(op.get('middle')):\n",
    "        middle = op.get('middle')\n",
    "    if(op.get('corners')):\n",
    "        corners = op.get('corners')\n",
    "    title = [\"NAME\",\"ADDRESS\",\"COURSE\",\"FEES\"]\n",
    "    print(corners + start*(len(title[0])+5)+corners + start *(len(name)+3)+corners)\n",
    "    print(left + title[0].center(len(title[0])+5)+middle + name.center(len(name)+3)+right)\n",
    "    print(corners + end*(len(title[0])+5)+corners + end *(len(name)+3)+corners)\n",
    "    \n",
    "    print(corners + start*(len(title[1])+2)+corners + start *(len(address)+6)+corners)\n",
    "    print(left + title[1].center(len(title[1])+2)+middle + address.center(len(address)+6)+right)\n",
    "    print(corners + end*(len(title[1])+2)+corners + end *(len(address)+6)+corners)\n",
    "    \n",
    "    print(corners + start*(len(title[2])+3)+corners + start *(len(course)+5)+corners)\n",
    "    print(left + title[2].center(len(title[2])+3)+middle + course.center(len(course)+5)+right)\n",
    "    print(corners + end*(len(title[2])+3)+corners + end *(len(course)+5)+corners)\n",
    "    \n",
    "    print(corners + start*(len(title[3])+5)+corners + start *(len(fees)+7)+corners)\n",
    "    print(left + title[3].center(len(title[3])+5)+middle + fees.center(len(fees)+7)+right)\n",
    "    print(corners + end*(len(title[3])+5)+corners + end *(len(fees)+7)+corners)"
   ]
  }
 ],
 "metadata": {
  "kernelspec": {
   "display_name": "Python 3",
   "language": "python",
   "name": "python3"
  },
  "language_info": {
   "codemirror_mode": {
    "name": "ipython",
    "version": 3
   },
   "file_extension": ".py",
   "mimetype": "text/x-python",
   "name": "python",
   "nbconvert_exporter": "python",
   "pygments_lexer": "ipython3",
   "version": "3.8.8"
  }
 },
 "nbformat": 4,
 "nbformat_minor": 5
}
