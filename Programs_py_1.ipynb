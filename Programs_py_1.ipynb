{
 "cells": [
  {
   "cell_type": "markdown",
   "id": "0adbcaa3",
   "metadata": {},
   "source": [
    "# BURGER BILL"
   ]
  },
  {
   "cell_type": "code",
   "execution_count": null,
   "id": "d21ae226",
   "metadata": {},
   "outputs": [],
   "source": [
    "bname = input(\"Enter Burger Name:- \")\n",
    "bprice = int(input(\"Enter Price:- \"))\n",
    "btoppings = input(\"Enter toppings:- \")\n",
    "top_price = int(input(\"Enter tprice:- \"))\n",
    "tot = bprice + top_price\n",
    "gst = (18*tot) / 100\n",
    "t_bill = gst + tot\n",
    "print(\"------------------BURGER KING-------------------\")\n",
    "print()\n",
    "print(\"BURGER NAME\".center(25)+\"    :- \"+str(bname.ljust(50)))\n",
    "print(\"PRICE\".center(20)+\"         :- \"+ str(bprice).ljust(50))  \n",
    "print(\"TOPPINGS\".center(22)+\"       :- \"+str(btoppings.ljust(50)))\n",
    "print(\"T_PRICE\".center(22)+\"       :- \"+str(top_price).ljust(50))\n",
    "print(\"TOTAL\".center(20)+\"         :- \"+ str(tot).ljust(50))\n",
    "print(\"GST 18%\".center(22)+\"       :- \"+ str(gst).ljust(50))\n",
    "print(\"_______\".rjust(38))\n",
    "print(\"TOTAL BILL\".center(24)+\"     :- \"+ str(t_bill).ljust(20))\n",
    "print()\n",
    "print(\"-------------------THANK YOU--------------------\")"
   ]
  },
  {
   "cell_type": "code",
   "execution_count": null,
   "id": "04b3af36",
   "metadata": {},
   "outputs": [],
   "source": []
  }
 ],
 "metadata": {
  "kernelspec": {
   "display_name": "Python 3",
   "language": "python",
   "name": "python3"
  },
  "language_info": {
   "codemirror_mode": {
    "name": "ipython",
    "version": 3
   },
   "file_extension": ".py",
   "mimetype": "text/x-python",
   "name": "python",
   "nbconvert_exporter": "python",
   "pygments_lexer": "ipython3",
   "version": "3.8.8"
  }
 },
 "nbformat": 4,
 "nbformat_minor": 5
}
